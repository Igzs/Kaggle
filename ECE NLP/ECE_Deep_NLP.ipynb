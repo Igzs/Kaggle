{
 "cells": [
  {
   "cell_type": "markdown",
   "metadata": {},
   "source": [
    "# ECE NLP"
   ]
  },
  {
   "cell_type": "markdown",
   "metadata": {},
   "source": [
    "## Overview"
   ]
  },
  {
   "cell_type": "markdown",
   "metadata": {},
   "source": [
    "In this challenge you will be building a model that automatically determines logical entailment between two sentences."
   ]
  },
  {
   "cell_type": "markdown",
   "metadata": {},
   "source": [
    "## Imports"
   ]
  },
  {
   "cell_type": "code",
   "execution_count": 174,
   "metadata": {},
   "outputs": [],
   "source": [
    "import numpy as np\n",
    "import pandas as pd\n",
    "import csv"
   ]
  },
  {
   "cell_type": "markdown",
   "metadata": {},
   "source": [
    "## Data import"
   ]
  },
  {
   "cell_type": "markdown",
   "metadata": {},
   "source": [
    "#### Import train and test csv files"
   ]
  },
  {
   "cell_type": "code",
   "execution_count": 136,
   "metadata": {},
   "outputs": [],
   "source": [
    "train_df = pd.read_csv(\"Data/dataset_train.csv\",sep='\\t', index_col='index')\n",
    "test_df = pd.read_csv(\"Data/dataset_test_no_labels.csv\",sep='\\t',index_col='index')\n",
    "labels = train_df['label']"
   ]
  },
  {
   "cell_type": "code",
   "execution_count": 137,
   "metadata": {},
   "outputs": [
    {
     "name": "stdout",
     "output_type": "stream",
     "text": [
      "sentence_1    0\n",
      "sentence_2    0\n",
      "label         0\n",
      "dtype: int64\n",
      "sentence_1    0\n",
      "sentence_2    0\n",
      "dtype: int64\n",
      "index\n",
      "0               neutral\n",
      "1            entailment\n",
      "2            entailment\n",
      "3            entailment\n",
      "4               neutral\n",
      "              ...      \n",
      "392657    contradiction\n",
      "392658          neutral\n",
      "392659       entailment\n",
      "392660          neutral\n",
      "392661          neutral\n",
      "Name: label, Length: 392662, dtype: object\n"
     ]
    }
   ],
   "source": [
    "print(train_df.isna().sum())\n",
    "print(test_df.isna().sum())\n",
    "print(labels)"
   ]
  },
  {
   "cell_type": "code",
   "execution_count": 29,
   "metadata": {},
   "outputs": [
    {
     "data": {
      "text/html": [
       "<div>\n",
       "<style scoped>\n",
       "    .dataframe tbody tr th:only-of-type {\n",
       "        vertical-align: middle;\n",
       "    }\n",
       "\n",
       "    .dataframe tbody tr th {\n",
       "        vertical-align: top;\n",
       "    }\n",
       "\n",
       "    .dataframe thead th {\n",
       "        text-align: right;\n",
       "    }\n",
       "</style>\n",
       "<table border=\"1\" class=\"dataframe\">\n",
       "  <thead>\n",
       "    <tr style=\"text-align: right;\">\n",
       "      <th></th>\n",
       "      <th>sentence_1</th>\n",
       "      <th>sentence_2</th>\n",
       "      <th>label</th>\n",
       "    </tr>\n",
       "    <tr>\n",
       "      <th>index</th>\n",
       "      <th></th>\n",
       "      <th></th>\n",
       "      <th></th>\n",
       "    </tr>\n",
       "  </thead>\n",
       "  <tbody>\n",
       "    <tr>\n",
       "      <td>0</td>\n",
       "      <td>Conceptually cream skimming has two basic dime...</td>\n",
       "      <td>Product and geography are what make cream skim...</td>\n",
       "      <td>neutral</td>\n",
       "    </tr>\n",
       "    <tr>\n",
       "      <td>1</td>\n",
       "      <td>you know during the season and i guess at at y...</td>\n",
       "      <td>You lose the things to the following level if ...</td>\n",
       "      <td>entailment</td>\n",
       "    </tr>\n",
       "    <tr>\n",
       "      <td>2</td>\n",
       "      <td>One of our number will carry out your instruct...</td>\n",
       "      <td>A member of my team will execute your orders w...</td>\n",
       "      <td>entailment</td>\n",
       "    </tr>\n",
       "    <tr>\n",
       "      <td>3</td>\n",
       "      <td>How do you know? All this is their information...</td>\n",
       "      <td>This information belongs to them.</td>\n",
       "      <td>entailment</td>\n",
       "    </tr>\n",
       "    <tr>\n",
       "      <td>4</td>\n",
       "      <td>yeah i tell you what though if you go price so...</td>\n",
       "      <td>The tennis shoes have a range of prices.</td>\n",
       "      <td>neutral</td>\n",
       "    </tr>\n",
       "  </tbody>\n",
       "</table>\n",
       "</div>"
      ],
      "text/plain": [
       "                                              sentence_1  \\\n",
       "index                                                      \n",
       "0      Conceptually cream skimming has two basic dime...   \n",
       "1      you know during the season and i guess at at y...   \n",
       "2      One of our number will carry out your instruct...   \n",
       "3      How do you know? All this is their information...   \n",
       "4      yeah i tell you what though if you go price so...   \n",
       "\n",
       "                                              sentence_2       label  \n",
       "index                                                                 \n",
       "0      Product and geography are what make cream skim...     neutral  \n",
       "1      You lose the things to the following level if ...  entailment  \n",
       "2      A member of my team will execute your orders w...  entailment  \n",
       "3                      This information belongs to them.  entailment  \n",
       "4               The tennis shoes have a range of prices.     neutral  "
      ]
     },
     "execution_count": 29,
     "metadata": {},
     "output_type": "execute_result"
    }
   ],
   "source": [
    "train_df.head()"
   ]
  },
  {
   "cell_type": "code",
   "execution_count": 45,
   "metadata": {},
   "outputs": [
    {
     "name": "stdout",
     "output_type": "stream",
     "text": [
      "Gays and lesbians.\n",
      "Heterosexuals.\n",
      "contradiction\n"
     ]
    }
   ],
   "source": [
    "index=8\n",
    "print(train_df['sentence_1'][index])\n",
    "print(train_df['sentence_2'][index])\n",
    "print(train_df['label'][index])"
   ]
  },
  {
   "cell_type": "markdown",
   "metadata": {},
   "source": [
    "## Data Transformation"
   ]
  },
  {
   "cell_type": "code",
   "execution_count": 104,
   "metadata": {},
   "outputs": [],
   "source": [
    "sentence_1 = train_df['sentence_1'].values\n",
    "sentence_1_words = [line.split() for line in sentence_1]\n",
    "assert( len(sentence_1_words) == len(sentence_1))\n",
    "\n",
    "sentence_2 = train_df['sentence_2'].values\n",
    "sentence_2_words = [line.split() for line in sentence_2]\n",
    "assert( len(sentence_2_words) == len(sentence_2))"
   ]
  },
  {
   "cell_type": "code",
   "execution_count": 194,
   "metadata": {},
   "outputs": [],
   "source": [
    "flat_sentence_1_words = [item for sublist in sentence_1_words for item in sublist]\n",
    "flat_sentence_2_words = [item for sublist in sentence_2_words for item in sublist]\n",
    "flat_words = flat_sentence_1_words + flat_sentence_2_words\n",
    "assert(len(flat_words) == len(flat_sentence_1_words)+len(flat_sentence_2_words))"
   ]
  },
  {
   "cell_type": "code",
   "execution_count": 197,
   "metadata": {},
   "outputs": [],
   "source": [
    "words = sorted(set(flat_words))\n",
    "word_index = dict((c, i) for i, c in enumerate(words))\n",
    "word_index_inversed = dict((i, c) for i, c in enumerate(words))"
   ]
  },
  {
   "cell_type": "code",
   "execution_count": 199,
   "metadata": {},
   "outputs": [
    {
     "data": {
      "text/plain": [
       "189730"
      ]
     },
     "execution_count": 199,
     "metadata": {},
     "output_type": "execute_result"
    }
   ],
   "source": []
  },
  {
   "cell_type": "markdown",
   "metadata": {},
   "source": [
    "## Model Definition"
   ]
  },
  {
   "cell_type": "markdown",
   "metadata": {},
   "source": [
    "## Model Training/Evaluation"
   ]
  },
  {
   "cell_type": "markdown",
   "metadata": {},
   "source": [
    "## Model Inference"
   ]
  },
  {
   "cell_type": "markdown",
   "metadata": {},
   "source": [
    "## Model Exportation"
   ]
  }
 ],
 "metadata": {
  "kernelspec": {
   "display_name": "Python 3",
   "language": "python",
   "name": "python3"
  },
  "language_info": {
   "codemirror_mode": {
    "name": "ipython",
    "version": 3
   },
   "file_extension": ".py",
   "mimetype": "text/x-python",
   "name": "python",
   "nbconvert_exporter": "python",
   "pygments_lexer": "ipython3",
   "version": "3.6.9"
  }
 },
 "nbformat": 4,
 "nbformat_minor": 2
}

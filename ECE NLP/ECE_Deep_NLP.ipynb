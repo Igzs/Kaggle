{
 "cells": [
  {
   "cell_type": "markdown",
   "metadata": {},
   "source": [
    "# ECE NLP"
   ]
  },
  {
   "cell_type": "markdown",
   "metadata": {},
   "source": [
    "## Overview"
   ]
  },
  {
   "cell_type": "markdown",
   "metadata": {},
   "source": [
    "In this challenge you will be building a model that automatically determines logical entailment between two sentences.  \n",
    "The model for this task we chose is a Bidirectionnial LSTM."
   ]
  },
  {
   "cell_type": "markdown",
   "metadata": {},
   "source": [
    "## Imports"
   ]
  },
  {
   "cell_type": "code",
   "execution_count": 2,
   "metadata": {},
   "outputs": [],
   "source": [
    "import numpy as np\n",
    "import pandas as pd\n",
    "import csv\n",
    "\n",
    "import tensorflow as tf\n",
    "from collections import Counter\n",
    "from tensorflow.keras.preprocessing.text import Tokenizer\n",
    "from tensorflow.keras.preprocessing import sequence\n",
    "\n",
    "from tensorflow.keras import Model\n",
    "from tensorflow.keras.models import Sequential\n",
    "from tensorflow.keras.layers import Dense, Embedding, LSTM, Input, Bidirectional, concatenate\n",
    "from tensorflow.keras.optimizers import Adam"
   ]
  },
  {
   "cell_type": "markdown",
   "metadata": {},
   "source": [
    "## Data import"
   ]
  },
  {
   "cell_type": "markdown",
   "metadata": {},
   "source": [
    "#### Import train and test csv files"
   ]
  },
  {
   "cell_type": "code",
   "execution_count": 3,
   "metadata": {},
   "outputs": [],
   "source": [
    "train_df = pd.read_csv(\"Data/dataset_train.csv\",sep='\\t', index_col='index')\n",
    "test_df = pd.read_csv(\"Data/dataset_test_no_labels.csv\",sep='\\t',index_col='index')\n",
    "labels = train_df['label']"
   ]
  },
  {
   "cell_type": "code",
   "execution_count": 4,
   "metadata": {},
   "outputs": [],
   "source": [
    "# print(train_df.isna().sum())\n",
    "# print(test_df.isna().sum())\n",
    "# print(labels)"
   ]
  },
  {
   "cell_type": "code",
   "execution_count": 5,
   "metadata": {},
   "outputs": [],
   "source": [
    "# train_df.values[0]"
   ]
  },
  {
   "cell_type": "code",
   "execution_count": 6,
   "metadata": {},
   "outputs": [],
   "source": [
    "# print(train_df['sentence_1'].values)"
   ]
  },
  {
   "cell_type": "markdown",
   "metadata": {},
   "source": [
    "## Data Transformation"
   ]
  },
  {
   "cell_type": "code",
   "execution_count": 7,
   "metadata": {},
   "outputs": [],
   "source": [
    "max_sequence_length = 300\n",
    "max_vocabulary_size=1000\n",
    "nb_examples = len(labels)\n",
    "train_size = int(0.8 * nb_examples)"
   ]
  },
  {
   "cell_type": "markdown",
   "metadata": {},
   "source": [
    "### Gathering all the words"
   ]
  },
  {
   "cell_type": "code",
   "execution_count": 8,
   "metadata": {},
   "outputs": [],
   "source": [
    "sentence_1 = train_df['sentence_1'].values\n",
    "sentence_1_words = [line.split() for line in sentence_1]\n",
    "assert( len(sentence_1_words) == len(sentence_1))\n",
    "\n",
    "sentence_2 = train_df['sentence_2'].values\n",
    "sentence_2_words = [line.split() for line in sentence_2]\n",
    "assert( len(sentence_2_words) == len(sentence_2))"
   ]
  },
  {
   "cell_type": "code",
   "execution_count": 9,
   "metadata": {},
   "outputs": [],
   "source": [
    "flat_sentence_1_words = [item for sublist in sentence_1_words for item in sublist]\n",
    "flat_sentence_2_words = [item for sublist in sentence_2_words for item in sublist]\n",
    "flat_words = flat_sentence_1_words + flat_sentence_2_words\n",
    "assert(len(flat_words) == len(flat_sentence_1_words)+len(flat_sentence_2_words))"
   ]
  },
  {
   "cell_type": "markdown",
   "metadata": {},
   "source": [
    "### Creating and fitting tokenizer"
   ]
  },
  {
   "cell_type": "code",
   "execution_count": 10,
   "metadata": {},
   "outputs": [],
   "source": [
    "tokenizer = Tokenizer(num_words=max_vocabulary_size)\n",
    "tokenizer.fit_on_texts(flat_words)"
   ]
  },
  {
   "cell_type": "markdown",
   "metadata": {},
   "source": [
    "### Tokenization"
   ]
  },
  {
   "cell_type": "code",
   "execution_count": 11,
   "metadata": {},
   "outputs": [],
   "source": [
    "sentence_1_tok = tokenizer.texts_to_sequences(train_df[\"sentence_1\"])\n",
    "sentence_2_tok = tokenizer.texts_to_sequences(train_df[\"sentence_2\"])"
   ]
  },
  {
   "cell_type": "code",
   "execution_count": 12,
   "metadata": {},
   "outputs": [],
   "source": [
    "#print(len(max(train_df[\"sentence_1\"], key=len)),len(max(sentence_1_tok, key=len)))"
   ]
  },
  {
   "cell_type": "markdown",
   "metadata": {},
   "source": [
    "### Padding"
   ]
  },
  {
   "cell_type": "code",
   "execution_count": 13,
   "metadata": {},
   "outputs": [],
   "source": [
    "sentence_1_pad = sequence.pad_sequences(sentence_1_tok,maxlen=max_sequence_length, dtype='int32', truncating=\"post\",padding=\"post\")\n",
    "sentence_2_pad = sequence.pad_sequences(sentence_2_tok,maxlen=max_sequence_length, dtype='int32', truncating=\"post\",padding=\"post\")"
   ]
  },
  {
   "cell_type": "code",
   "execution_count": 14,
   "metadata": {},
   "outputs": [
    {
     "name": "stdout",
     "output_type": "stream",
     "text": [
      "original :  Conceptually cream skimming has two basic dimensions - product and geography.\n",
      "tokenized :  [37, 95, 798, 4]\n",
      "de-tokenized :  [['has', 'two', 'product', 'and']]\n",
      "padded :  [ 37  95 798   4   0   0   0   0   0   0   0   0   0   0   0   0   0   0\n",
      "   0   0   0   0   0   0   0   0   0   0   0   0   0   0   0   0   0   0\n",
      "   0   0   0   0   0   0   0   0   0   0   0   0   0   0   0   0   0   0\n",
      "   0   0   0   0   0   0   0   0   0   0   0   0   0   0   0   0   0   0\n",
      "   0   0   0   0   0   0   0   0   0   0   0   0   0   0   0   0   0   0\n",
      "   0   0   0   0   0   0   0   0   0   0   0   0   0   0   0   0   0   0\n",
      "   0   0   0   0   0   0   0   0   0   0   0   0   0   0   0   0   0   0\n",
      "   0   0   0   0   0   0   0   0   0   0   0   0   0   0   0   0   0   0\n",
      "   0   0   0   0   0   0   0   0   0   0   0   0   0   0   0   0   0   0\n",
      "   0   0   0   0   0   0   0   0   0   0   0   0   0   0   0   0   0   0\n",
      "   0   0   0   0   0   0   0   0   0   0   0   0   0   0   0   0   0   0\n",
      "   0   0   0   0   0   0   0   0   0   0   0   0   0   0   0   0   0   0\n",
      "   0   0   0   0   0   0   0   0   0   0   0   0   0   0   0   0   0   0\n",
      "   0   0   0   0   0   0   0   0   0   0   0   0   0   0   0   0   0   0\n",
      "   0   0   0   0   0   0   0   0   0   0   0   0   0   0   0   0   0   0\n",
      "   0   0   0   0   0   0   0   0   0   0   0   0   0   0   0   0   0   0\n",
      "   0   0   0   0   0   0   0   0   0   0   0   0]\n"
     ]
    }
   ],
   "source": [
    "reverse_word_map = dict(map(reversed, tokenizer.word_index.items()))\n",
    "def sequence_to_text(sentence):\n",
    "    # Looking up words in dictionary\n",
    "    words = [reverse_word_map.get(word) for word in sentence]\n",
    "    return(words)\n",
    "\n",
    "# Creating texts \n",
    "totext = list(map(sequence_to_text, [sentence_1_tok[0]]))\n",
    "totext\n",
    "\n",
    "print(\"original : \",train_df[\"sentence_1\"][0])\n",
    "print(\"tokenized : \",sentence_1_tok[0])\n",
    "print(\"de-tokenized : \",totext)\n",
    "print(\"padded : \",sentence_1_pad[0])"
   ]
  },
  {
   "cell_type": "code",
   "execution_count": 15,
   "metadata": {
    "scrolled": true
   },
   "outputs": [],
   "source": [
    "# Check tokenizer\n",
    "# tokenizer.get_config()"
   ]
  },
  {
   "cell_type": "markdown",
   "metadata": {},
   "source": [
    "### Integer encoded Labels"
   ]
  },
  {
   "cell_type": "code",
   "execution_count": 16,
   "metadata": {},
   "outputs": [],
   "source": [
    "def translate_labels(labels,inverse=False):\n",
    "    convert_dict = {\n",
    "      'entailment': 0,\n",
    "      'neutral': 1,\n",
    "      'contradiction': 2\n",
    "    }\n",
    "    convert_dict_inverse = {\n",
    "      0: 'entailment',\n",
    "      1: 'neutral',\n",
    "      2: 'contradiction'\n",
    "    }\n",
    "    new_labels=[]\n",
    "    if inverse:\n",
    "        new_labels.append(convert_dict_inverse[labels])\n",
    "    else:\n",
    "        for label in labels:\n",
    "            new_labels.append(convert_dict[label])\n",
    "    \n",
    "    return new_labels"
   ]
  },
  {
   "cell_type": "code",
   "execution_count": 17,
   "metadata": {},
   "outputs": [],
   "source": [
    "num_labels = translate_labels(labels)"
   ]
  },
  {
   "cell_type": "markdown",
   "metadata": {},
   "source": [
    "## Model Definition"
   ]
  },
  {
   "cell_type": "code",
   "execution_count": 18,
   "metadata": {},
   "outputs": [],
   "source": [
    "from __future__ import absolute_import, division, print_function, unicode_literals\n",
    "tf.keras.backend.clear_session()  # For easy reset of notebook state."
   ]
  },
  {
   "cell_type": "code",
   "execution_count": 19,
   "metadata": {},
   "outputs": [],
   "source": [
    "vocabulary_size = max_vocabulary_size\n",
    "BATCH_SIZE = 1024\n",
    "embedding_size = 64\n",
    "hidden_size = 64\n",
    "epochs = 10"
   ]
  },
  {
   "cell_type": "markdown",
   "metadata": {},
   "source": [
    "This next cell is useful to reset the model and to not get any errors during training"
   ]
  },
  {
   "cell_type": "code",
   "execution_count": 20,
   "metadata": {},
   "outputs": [],
   "source": [
    "premise = tf.keras.Input(shape=(max_sequence_length), name='Premise')        # Sequence of ints\n",
    "hypothesis = tf.keras.Input(shape=(max_sequence_length), name='Hypothesis')  # Sequence of ints\n",
    "\n",
    "emb_1 = Embedding(vocabulary_size,embedding_size)(premise)       \n",
    "emb_2 = Embedding(vocabulary_size,embedding_size)(hypothesis)\n",
    "\n",
    "x = concatenate([emb_1, emb_2])\n",
    "x = Bidirectional(tf.keras.layers.LSTM(hidden_size))(x)\n",
    "x = Dense(hidden_size, activation='relu')(x)\n",
    "x = Dense(3, activation='softmax')(x)\n",
    "\n",
    "model = Model(inputs=[premise, hypothesis], outputs=x)\n",
    "model.compile(loss='sparse_categorical_crossentropy',optimizer='adam',metrics=['accuracy'])"
   ]
  },
  {
   "cell_type": "code",
   "execution_count": 21,
   "metadata": {},
   "outputs": [
    {
     "name": "stdout",
     "output_type": "stream",
     "text": [
      "Model: \"model\"\n",
      "__________________________________________________________________________________________________\n",
      "Layer (type)                    Output Shape         Param #     Connected to                     \n",
      "==================================================================================================\n",
      "Premise (InputLayer)            [(None, 300)]        0                                            \n",
      "__________________________________________________________________________________________________\n",
      "Hypothesis (InputLayer)         [(None, 300)]        0                                            \n",
      "__________________________________________________________________________________________________\n",
      "embedding (Embedding)           (None, 300, 64)      64000       Premise[0][0]                    \n",
      "__________________________________________________________________________________________________\n",
      "embedding_1 (Embedding)         (None, 300, 64)      64000       Hypothesis[0][0]                 \n",
      "__________________________________________________________________________________________________\n",
      "concatenate (Concatenate)       (None, 300, 128)     0           embedding[0][0]                  \n",
      "                                                                 embedding_1[0][0]                \n",
      "__________________________________________________________________________________________________\n",
      "bidirectional (Bidirectional)   (None, 128)          98816       concatenate[0][0]                \n",
      "__________________________________________________________________________________________________\n",
      "dense (Dense)                   (None, 64)           8256        bidirectional[0][0]              \n",
      "__________________________________________________________________________________________________\n",
      "dense_1 (Dense)                 (None, 3)            195         dense[0][0]                      \n",
      "==================================================================================================\n",
      "Total params: 235,267\n",
      "Trainable params: 235,267\n",
      "Non-trainable params: 0\n",
      "__________________________________________________________________________________________________\n"
     ]
    }
   ],
   "source": [
    "model.summary()"
   ]
  },
  {
   "cell_type": "code",
   "execution_count": 22,
   "metadata": {},
   "outputs": [
    {
     "data": {
      "image/png": "[encoded data removed]",
      "text/plain": [
       "<IPython.core.display.Image object>"
      ]
     },
     "execution_count": 22,
     "metadata": {},
     "output_type": "execute_result"
    }
   ],
   "source": [
    "tf.keras.utils.plot_model(model, 'model.png', show_shapes=True)"
   ]
  },
  {
   "cell_type": "markdown",
   "metadata": {},
   "source": [
    "## Model Training/Evaluation"
   ]
  },
  {
   "cell_type": "markdown",
   "metadata": {},
   "source": [
    "### Preparing dataset for training"
   ]
  },
  {
   "cell_type": "code",
   "execution_count": 23,
   "metadata": {},
   "outputs": [],
   "source": [
    "def input_fn(input_1,input_2, labels, BATCH_SIZE):\n",
    "    dataset = tf.data.Dataset.from_tensor_slices(({\"Premise\": input_1, \"Hypothesis\": input_2}, labels))\n",
    "    dataset = dataset.batch(BATCH_SIZE).shuffle(1000)\n",
    "    return dataset"
   ]
  },
  {
   "cell_type": "code",
   "execution_count": 24,
   "metadata": {},
   "outputs": [
    {
     "data": {
      "text/plain": [
       "<ShuffleDataset shapes: ({Premise: (None, 300), Hypothesis: (None, 300)}, (None,)), types: ({Premise: tf.int32, Hypothesis: tf.int32}, tf.int32)>"
      ]
     },
     "execution_count": 24,
     "metadata": {},
     "output_type": "execute_result"
    }
   ],
   "source": [
    "dataset = input_fn(sentence_1_pad,sentence_2_pad, num_labels, BATCH_SIZE)\n",
    "dataset"
   ]
  },
  {
   "cell_type": "markdown",
   "metadata": {},
   "source": [
    "### Splitting dataset into training/validation"
   ]
  },
  {
   "cell_type": "code",
   "execution_count": 25,
   "metadata": {},
   "outputs": [],
   "source": [
    "train_dataset = dataset.take(train_size) \n",
    "val_dataset = dataset.skip(train_size)"
   ]
  },
  {
   "cell_type": "markdown",
   "metadata": {},
   "source": [
    "### Training the network"
   ]
  },
  {
   "cell_type": "code",
   "execution_count": 1,
   "metadata": {},
   "outputs": [
    {
     "ename": "NameError",
     "evalue": "name 'model' is not defined",
     "output_type": "error",
     "traceback": [
      "\u001b[0;31m---------------------------------------------------------------------------\u001b[0m",
      "\u001b[0;31mNameError\u001b[0m                                 Traceback (most recent call last)",
      "\u001b[0;32m<ipython-input-1-f3240d490457>\u001b[0m in \u001b[0;36m<module>\u001b[0;34m\u001b[0m\n\u001b[0;32m----> 1\u001b[0;31m model.fit(train_dataset, \n\u001b[0m\u001b[1;32m      2\u001b[0m           \u001b[0msteps_per_epoch\u001b[0m\u001b[0;34m=\u001b[0m \u001b[0mtrain_size\u001b[0m \u001b[0;34m//\u001b[0m \u001b[0mBATCH_SIZE\u001b[0m\u001b[0;34m,\u001b[0m\u001b[0;34m\u001b[0m\u001b[0;34m\u001b[0m\u001b[0m\n\u001b[1;32m      3\u001b[0m           \u001b[0mvalidation_data\u001b[0m\u001b[0;34m=\u001b[0m\u001b[0mval_dataset\u001b[0m\u001b[0;34m,\u001b[0m\u001b[0;34m\u001b[0m\u001b[0;34m\u001b[0m\u001b[0m\n\u001b[1;32m      4\u001b[0m           \u001b[0mvalidation_steps\u001b[0m\u001b[0;34m=\u001b[0m \u001b[0;34m(\u001b[0m \u001b[0mnb_examples\u001b[0m \u001b[0;34m-\u001b[0m \u001b[0mtrain_size\u001b[0m \u001b[0;34m)\u001b[0m \u001b[0;34m//\u001b[0m \u001b[0mBATCH_SIZE\u001b[0m\u001b[0;34m,\u001b[0m\u001b[0;34m\u001b[0m\u001b[0;34m\u001b[0m\u001b[0m\n\u001b[1;32m      5\u001b[0m           epochs=10,verbose=1)\n",
      "\u001b[0;31mNameError\u001b[0m: name 'model' is not defined"
     ]
    }
   ],
   "source": [
    "model.fit(train_dataset, \n",
    "          steps_per_epoch= train_size // BATCH_SIZE,\n",
    "          validation_data=val_dataset,\n",
    "          validation_steps= ( nb_examples - train_size ) // BATCH_SIZE,\n",
    "          epochs=10,verbose=1)"
   ]
  },
  {
   "cell_type": "markdown",
   "metadata": {},
   "source": [
    "## Model Inference"
   ]
  },
  {
   "cell_type": "code",
   "execution_count": 159,
   "metadata": {},
   "outputs": [],
   "source": [
    "test_sentence_1_tok = tokenizer.texts_to_sequences(test_df[\"sentence_1\"])\n",
    "test_sentence_2_tok = tokenizer.texts_to_sequences(test_df[\"sentence_2\"])\n",
    "\n",
    "test_sentence_1_pad = sequence.pad_sequences(test_sentence_1_tok,maxlen=max_sequence_length, dtype='int32', truncating=\"post\",padding=\"post\")\n",
    "test_sentence_2_pad = sequence.pad_sequences(test_sentence_2_tok,maxlen=max_sequence_length, dtype='int32', truncating=\"post\",padding=\"post\")"
   ]
  },
  {
   "cell_type": "code",
   "execution_count": 160,
   "metadata": {},
   "outputs": [],
   "source": [
    "tmp = []\n",
    "tmp.append(test_sentence_1_pad)\n",
    "tmp.append(test_sentence_2_pad)\n",
    "\n",
    "X_test = np.array(tmp)"
   ]
  },
  {
   "cell_type": "code",
   "execution_count": 163,
   "metadata": {},
   "outputs": [
    {
     "name": "stdout",
     "output_type": "stream",
     "text": [
      "19647/19647 [==============================] - 58s 3ms/sample\n"
     ]
    }
   ],
   "source": [
    "predict = model.predict([X_test[0],X_test[1]],verbose=True)"
   ]
  },
  {
   "cell_type": "code",
   "execution_count": 194,
   "metadata": {},
   "outputs": [],
   "source": [
    "pred_labels=pd.DataFrame(columns=[\"index\",\"label\"])\n",
    "\n",
    "for index,pred in enumerate(predict):\n",
    "    real_label = translate_labels(np.round(np.argmax(pred)),inverse=True)\n",
    "    real_label = str(real_label).strip('[]').replace(\"'\",\"\")\n",
    "    pred_labels = pred_labels.append({'index':index, 'label':real_label},ignore_index=True)"
   ]
  },
  {
   "cell_type": "code",
   "execution_count": 195,
   "metadata": {},
   "outputs": [
    {
     "data": {
      "text/html": [
       "<div>\n",
       "<style scoped>\n",
       "    .dataframe tbody tr th:only-of-type {\n",
       "        vertical-align: middle;\n",
       "    }\n",
       "\n",
       "    .dataframe tbody tr th {\n",
       "        vertical-align: top;\n",
       "    }\n",
       "\n",
       "    .dataframe thead th {\n",
       "        text-align: right;\n",
       "    }\n",
       "</style>\n",
       "<table border=\"1\" class=\"dataframe\">\n",
       "  <thead>\n",
       "    <tr style=\"text-align: right;\">\n",
       "      <th></th>\n",
       "      <th>index</th>\n",
       "      <th>label</th>\n",
       "    </tr>\n",
       "  </thead>\n",
       "  <tbody>\n",
       "    <tr>\n",
       "      <td>0</td>\n",
       "      <td>0</td>\n",
       "      <td>entailment</td>\n",
       "    </tr>\n",
       "    <tr>\n",
       "      <td>1</td>\n",
       "      <td>1</td>\n",
       "      <td>entailment</td>\n",
       "    </tr>\n",
       "    <tr>\n",
       "      <td>2</td>\n",
       "      <td>2</td>\n",
       "      <td>neutral</td>\n",
       "    </tr>\n",
       "    <tr>\n",
       "      <td>3</td>\n",
       "      <td>3</td>\n",
       "      <td>contradiction</td>\n",
       "    </tr>\n",
       "    <tr>\n",
       "      <td>4</td>\n",
       "      <td>4</td>\n",
       "      <td>contradiction</td>\n",
       "    </tr>\n",
       "    <tr>\n",
       "      <td>...</td>\n",
       "      <td>...</td>\n",
       "      <td>...</td>\n",
       "    </tr>\n",
       "    <tr>\n",
       "      <td>19642</td>\n",
       "      <td>19642</td>\n",
       "      <td>contradiction</td>\n",
       "    </tr>\n",
       "    <tr>\n",
       "      <td>19643</td>\n",
       "      <td>19643</td>\n",
       "      <td>neutral</td>\n",
       "    </tr>\n",
       "    <tr>\n",
       "      <td>19644</td>\n",
       "      <td>19644</td>\n",
       "      <td>neutral</td>\n",
       "    </tr>\n",
       "    <tr>\n",
       "      <td>19645</td>\n",
       "      <td>19645</td>\n",
       "      <td>neutral</td>\n",
       "    </tr>\n",
       "    <tr>\n",
       "      <td>19646</td>\n",
       "      <td>19646</td>\n",
       "      <td>entailment</td>\n",
       "    </tr>\n",
       "  </tbody>\n",
       "</table>\n",
       "<p>19647 rows × 2 columns</p>\n",
       "</div>"
      ],
      "text/plain": [
       "       index          label\n",
       "0          0     entailment\n",
       "1          1     entailment\n",
       "2          2        neutral\n",
       "3          3  contradiction\n",
       "4          4  contradiction\n",
       "...      ...            ...\n",
       "19642  19642  contradiction\n",
       "19643  19643        neutral\n",
       "19644  19644        neutral\n",
       "19645  19645        neutral\n",
       "19646  19646     entailment\n",
       "\n",
       "[19647 rows x 2 columns]"
      ]
     },
     "execution_count": 195,
     "metadata": {},
     "output_type": "execute_result"
    }
   ],
   "source": [
    "pred_labels"
   ]
  },
  {
   "cell_type": "markdown",
   "metadata": {},
   "source": [
    "## Export results"
   ]
  },
  {
   "cell_type": "code",
   "execution_count": 196,
   "metadata": {},
   "outputs": [],
   "source": [
    "pred_labels.to_csv('submission.csv', index = False)"
   ]
  },
  {
   "cell_type": "code",
   "execution_count": 197,
   "metadata": {},
   "outputs": [
    {
     "name": "stdout",
     "output_type": "stream",
     "text": [
      "               index,label\n",
      "0             0,entailment\n",
      "1             1,entailment\n",
      "2                2,neutral\n",
      "3          3,contradiction\n",
      "4          4,contradiction\n",
      "...                    ...\n",
      "19642  19642,contradiction\n",
      "19643        19643,neutral\n",
      "19644        19644,neutral\n",
      "19645        19645,neutral\n",
      "19646     19646,entailment\n",
      "\n",
      "[19647 rows x 1 columns]\n"
     ]
    }
   ],
   "source": [
    "TableBIS = pd.read_csv(\"submission.csv\", sep=\"\\t\")\n",
    "print(TableBIS)"
   ]
  }
 ],
 "metadata": {
  "kernelspec": {
   "display_name": "Python 3",
   "language": "python",
   "name": "python3"
  },
  "language_info": {
   "codemirror_mode": {
    "name": "ipython",
    "version": 3
   },
   "file_extension": ".py",
   "mimetype": "text/x-python",
   "name": "python",
   "nbconvert_exporter": "python",
   "pygments_lexer": "ipython3",
   "version": "3.7.3"
  }
 },
 "nbformat": 4,
 "nbformat_minor": 2
}
